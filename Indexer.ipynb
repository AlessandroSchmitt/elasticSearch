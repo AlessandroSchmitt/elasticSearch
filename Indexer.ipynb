{
 "cells": [
  {
   "cell_type": "markdown",
   "id": "9ccc996a",
   "metadata": {},
   "source": [
    "#  PREPARAZIONE DEL DATASET"
   ]
  },
  {
   "cell_type": "code",
   "execution_count": 2,
   "id": "69ab8766",
   "metadata": {},
   "outputs": [],
   "source": [
    "# Import necessari\n",
    "import os\n",
    "import re\n",
    "import pandas as pd\n",
    "\n",
    "# Dataset\n",
    "df = pd.read_csv(\"Dataset/Movies.csv\")\n",
    "\n",
    "# Subsampling del Dataset\n",
    "df = df.sample(n=100, random_state=42, replace=False)\n",
    "df = df[['Title', 'Plot']].copy()\n",
    "df = df.reset_index(drop=True)\n",
    " \n",
    "# Crea la cartella per i .txt\n",
    "directory = \"Files\"\n",
    "os.makedirs(directory, exist_ok=True)\n",
    "\n",
    "# Crea file di testo per ogni film:\n",
    "# nome file basato sul Title e contenuto su Plot\n",
    "for idx, row in df.iterrows():\n",
    "    movieTitle = row[\"Title\"]\n",
    "    moviePlot = row[\"Plot\"]\n",
    "    \n",
    "    filePath = os.path.join(directory, f\"{movieTitle}.txt\")\n",
    "\n",
    "    with open(filePath, \"w\", encoding=\"utf-8\") as f:\n",
    "        f.write(str(moviePlot))"
   ]
  },
  {
   "cell_type": "markdown",
   "id": "ca488ad2",
   "metadata": {},
   "source": [
    "# ELASTICSEARCH"
   ]
  },
  {
   "cell_type": "code",
   "execution_count": null,
   "id": "979ffa77",
   "metadata": {},
   "outputs": [
    {
     "name": "stdout",
     "output_type": "stream",
     "text": [
      "Indice 'moviesindex' creato correttamente.\n"
     ]
    },
    {
     "name": "stderr",
     "output_type": "stream",
     "text": [
      "/tmp/ipykernel_19281/3807077765.py:102: DeprecationWarning: Passing transport options in the API method is deprecated. Use 'Elasticsearch.options()' instead.\n",
      "  success, _ = helpers.bulk(es, actions, request_timeout=120)\n"
     ]
    },
    {
     "name": "stdout",
     "output_type": "stream",
     "text": [
      "Documenti indicizzati correttamente: 100\n",
      "Tempo totale: 0.52 secondi\n"
     ]
    }
   ],
   "source": [
    "import os\n",
    "import time\n",
    "from dotenv import load_dotenv\n",
    "from elasticsearch import Elasticsearch, helpers # type: ignore\n",
    "\n",
    "# Nome dell'indice\n",
    "INDEX_NAME = \"moviesindex\"\n",
    "\n",
    "# Carica variabili d'ambiente dal file .env\n",
    "load_dotenv(dotenv_path=\"EnvAndDocker/.env\")\n",
    "\n",
    "# Recupera i valori dal .env\n",
    "URL = os.getenv(\"URL\")\n",
    "PASSWORD = os.getenv(\"PASSWORD\")\n",
    "\n",
    "# Definizione del mapping e degli analyzer\n",
    "MAPPING = {\n",
    "    \"settings\": {\n",
    "        \"analysis\": {\n",
    "            \"filter\": {\n",
    "                \"english_stop\": {\"type\": \"stop\", \"stopwords\": \"_english_\"},\n",
    "                \"english_stemmer\": {\"type\": \"stemmer\", \"language\": \"english\"},\n",
    "                \"english_possessive_stemmer\": {\"type\": \"stemmer\", \"language\": \"possessive_english\"},\n",
    "            },\n",
    "            \"analyzer\": {\n",
    "                \"standard_custom\": {\n",
    "                    \"type\": \"custom\",\n",
    "                    \"tokenizer\": \"standard\",\n",
    "                    \"filter\": [\n",
    "                        \"english_possessive_stemmer\",\n",
    "                        \"lowercase\",\n",
    "                        \"asciifolding\",\n",
    "                        \"english_stop\",\n",
    "                        \"english_stemmer\",\n",
    "                    ],\n",
    "                }\n",
    "            },\n",
    "        }\n",
    "    },\n",
    "    \"mappings\": {\n",
    "        \"properties\": {\n",
    "            \"title\": {\n",
    "                \"type\": \"text\",\n",
    "                \"analyzer\": \"standard\",\n",
    "                \"search_analyzer\": \"standard\",\n",
    "            },\n",
    "            \"content\": {\n",
    "                \"type\": \"text\",\n",
    "                \"analyzer\": \"standard_custom\",\n",
    "                \"search_analyzer\": \"standard_custom\",\n",
    "            },\n",
    "        }\n",
    "    },\n",
    "}\n",
    "\n",
    "\n",
    "def build_index():\n",
    "    \"\"\"Crea l'indice moviesindex e indicizza i file .txt.\"\"\"\n",
    "\n",
    "    # Connessione a Elasticsearch\n",
    "    es = Elasticsearch(URL, basic_auth=(\"elastic\", PASSWORD))\n",
    "\n",
    "    # Verifica connessione\n",
    "    if not es.ping():\n",
    "        raise ConnectionError(\"Impossibile connettersi a Elasticsearch. Controlla URL e password nel .env\")\n",
    "\n",
    "    # Elimina indice se esiste già\n",
    "    if es.indices.exists(index=INDEX_NAME):\n",
    "        es.indices.delete(index=INDEX_NAME)\n",
    "        print(f\"Indice esistente '{INDEX_NAME}' eliminato.\")\n",
    "\n",
    "    # Creazione nuovo indice con il mapping definito\n",
    "    es.indices.create(index=INDEX_NAME, body=MAPPING)\n",
    "    print(f\"Indice '{INDEX_NAME}' creato correttamente.\")\n",
    "\n",
    "    # Lista di documenti da indicizzare\n",
    "    actions = []\n",
    "    for filename in os.listdir(\"Files\"):\n",
    "        if not filename.endswith(\".txt\"):\n",
    "            continue\n",
    "        path = os.path.join(\"Files\", filename)\n",
    "        with open(path, \"r\", encoding=\"utf-8\") as f:\n",
    "            content = f.read()\n",
    "\n",
    "        actions.append({\n",
    "            \"_index\": INDEX_NAME,\n",
    "            \"_source\": {\n",
    "                \"title\": os.path.splitext(filename)[0],  # nome del file senza estensione\n",
    "                \"content\": content\n",
    "            }\n",
    "        })\n",
    "\n",
    "    if not actions:\n",
    "        print(\"Nessun file .txt trovato nella cartella.\")\n",
    "        return\n",
    "\n",
    "    # Indicizzazione in blocco\n",
    "    start = time.perf_counter()\n",
    "    success, _ = helpers.bulk(es.options(request_timeout=120), actions)\n",
    "    elapsed = time.perf_counter() - start\n",
    "\n",
    "    print(f\"Documenti indicizzati correttamente: {success}\")\n",
    "    print(f\"Tempo totale: {elapsed:.2f} secondi\")\n",
    "\n",
    "    return elapsed\n",
    "\n",
    "\n",
    "if __name__ == \"__main__\":\n",
    "    build_index()\n"
   ]
  }
 ],
 "metadata": {
  "kernelspec": {
   "display_name": "Python 3",
   "language": "python",
   "name": "python3"
  },
  "language_info": {
   "codemirror_mode": {
    "name": "ipython",
    "version": 3
   },
   "file_extension": ".py",
   "mimetype": "text/x-python",
   "name": "python",
   "nbconvert_exporter": "python",
   "pygments_lexer": "ipython3",
   "version": "3.10.12"
  }
 },
 "nbformat": 4,
 "nbformat_minor": 5
}
