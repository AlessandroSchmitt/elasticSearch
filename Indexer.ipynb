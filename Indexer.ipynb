{
 "cells": [
  {
   "cell_type": "markdown",
   "id": "9ccc996a",
   "metadata": {},
   "source": [
    "#  PREPARAZIONE DEL DATASET"
   ]
  },
  {
   "cell_type": "markdown",
   "id": "ec9d1088",
   "metadata": {},
   "source": [
    "**IMPORT**"
   ]
  },
  {
   "cell_type": "code",
   "execution_count": 8,
   "id": "2b5ea4ba",
   "metadata": {},
   "outputs": [],
   "source": [
    "import os, time, re\n",
    "import pandas as pd\n",
    "from dotenv import load_dotenv\n",
    "from elasticsearch import Elasticsearch, helpers # type: ignore"
   ]
  },
  {
   "cell_type": "code",
   "execution_count": 9,
   "id": "af5979c7",
   "metadata": {},
   "outputs": [],
   "source": [
    "def safe_filename(name):\n",
    "    \"\"\"Rimuove caratteri non validi da un nome di file.\"\"\"\n",
    "    # Rimuove / \\ ? % * : | \" < > e sostituisce spazi multipli\n",
    "    name = re.sub(r'[\\\\/*?:\"<>|]', \"\", name)\n",
    "    name = re.sub(r\"\\s+\", \" \", name).strip()\n",
    "    return name"
   ]
  },
  {
   "cell_type": "code",
   "execution_count": 10,
   "id": "69ab8766",
   "metadata": {},
   "outputs": [],
   "source": [
    "# Dataset\n",
    "df = pd.read_csv(\"Dataset/Movies.csv\")\n",
    "\n",
    "# Subsampling del Dataset\n",
    "df = df.sample(n=2976, random_state=42, replace=False)\n",
    "df = df[['Title', 'Plot']].copy()\n",
    "df = df.reset_index(drop=True)\n",
    " \n",
    "# Crea la cartella per i .txt\n",
    "directory = \"Files\"\n",
    "os.makedirs(directory, exist_ok=True)\n",
    "\n",
    "# Crea file di testo per ogni film:\n",
    "# nome file basato sul Title e contenuto su Plot\n",
    "for idx, row in df.iterrows():\n",
    "    movieTitle = safe_filename(row[\"Title\"])\n",
    "    moviePlot = row[\"Plot\"]\n",
    "    \n",
    "    filePath = os.path.join(directory, f\"{movieTitle}.txt\")\n",
    "\n",
    "    with open(filePath, \"w\", encoding=\"utf-8\") as f:\n",
    "        f.write(str(moviePlot))"
   ]
  },
  {
   "cell_type": "markdown",
   "id": "ca488ad2",
   "metadata": {},
   "source": [
    "# ELASTICSEARCH"
   ]
  },
  {
   "cell_type": "code",
   "execution_count": 11,
   "id": "979ffa77",
   "metadata": {},
   "outputs": [
    {
     "name": "stdout",
     "output_type": "stream",
     "text": [
      "Indice 'moviesindex' creato correttamente.\n",
      "Documenti indicizzati correttamente: 2976\n",
      "Tempo totale: 3.87 secondi\n"
     ]
    }
   ],
   "source": [
    "# Carica variabili d'ambiente dal file .env\n",
    "load_dotenv(dotenv_path=\"EnvAndDocker/.env\")\n",
    "\n",
    "# Recupera i valori dal .env\n",
    "URL = os.getenv(\"URL\")\n",
    "PASSWORD = os.getenv(\"PASSWORD\")\n",
    "\n",
    "# Connessione a Elasticsearch\n",
    "es = Elasticsearch(URL, basic_auth=(\"elastic\", PASSWORD))\n",
    "\n",
    "# Definizione del mapping e degli analyzer\n",
    "MAPPING = {\n",
    "    \"mappings\": {\n",
    "        \"properties\": {\n",
    "            \"title\": {\"type\": \"text\", \"analyzer\": \"english\", \"search_analyzer\": \"english\"},\n",
    "            \"content\": {\"type\": \"text\", \"analyzer\": \"english\", \"search_analyzer\": \"english\"}\n",
    "        }\n",
    "    }\n",
    "}\n",
    "\n",
    "\n",
    "def index():\n",
    "    \"\"\"Crea l'indice moviesindex e indicizza i file .txt.\"\"\"\n",
    "\n",
    "    # Elimina indice se esiste già\n",
    "    if es.indices.exists(index=\"moviesindex\"):\n",
    "        es.indices.delete(index=\"moviesindex\")\n",
    "        print(f\"Indice esistente 'moviesindex' eliminato.\")\n",
    "\n",
    "    # Creazione nuovo indice con il mapping definito\n",
    "    es.indices.create(index=\"moviesindex\", body=MAPPING)\n",
    "    print(f\"Indice 'moviesindex' creato correttamente.\")\n",
    "\n",
    "    # Lista di documenti da indicizzare\n",
    "    actions = []\n",
    "    for filename in os.listdir(\"Files\"):\n",
    "        if not filename.endswith(\".txt\"):\n",
    "            continue\n",
    "        path = os.path.join(\"Files\", filename)\n",
    "        with open(path, \"r\", encoding=\"utf-8\") as f:\n",
    "            content = f.read()\n",
    "\n",
    "        actions.append({\n",
    "            \"_index\": \"moviesindex\",\n",
    "            \"_source\": {\n",
    "                \"title\": os.path.splitext(filename)[0],  # nome del file senza estensione\n",
    "                \"content\": content\n",
    "            }\n",
    "        })\n",
    "\n",
    "    if not actions:\n",
    "        print(\"Nessun file .txt trovato nella cartella.\")\n",
    "        return\n",
    "\n",
    "    # Indicizzazione in blocco\n",
    "    start = time.perf_counter()\n",
    "    success, _ = helpers.bulk(es.options(request_timeout=120), actions)\n",
    "    elapsed = time.perf_counter() - start\n",
    "\n",
    "    print(f\"Documenti indicizzati correttamente: {success}\")\n",
    "    print(f\"Tempo totale: {elapsed:.2f} secondi\")\n",
    "\n",
    "    return elapsed\n",
    "\n",
    "\n",
    "if __name__ == \"__main__\":\n",
    "    index()\n"
   ]
  },
  {
   "cell_type": "markdown",
   "id": "9f824737",
   "metadata": {},
   "source": [
    "**Interrogazione dell’indice Elasticsearch**\n"
   ]
  },
  {
   "cell_type": "code",
   "execution_count": 12,
   "id": "5b5de943",
   "metadata": {},
   "outputs": [],
   "source": [
    "def search(query):\n",
    "    res = es.search(index=\"moviesindex\", body=query)\n",
    "    print('Query results:')\n",
    "    for i, hit in enumerate(res[\"hits\"][\"hits\"]):\n",
    "        res_doc = hit[\"_source\"]\n",
    "        print(f'{i}:{res_doc[\"title\"]}({hit[\"_score\"]})')"
   ]
  },
  {
   "cell_type": "code",
   "execution_count": 13,
   "id": "f388cf45",
   "metadata": {},
   "outputs": [
    {
     "name": "stdout",
     "output_type": "stream",
     "text": [
      "Query results:\n",
      "0:Paprika(5.6171293)\n",
      "1:Banshi(5.1042423)\n",
      "2:Days of Our Own(5.03267)\n",
      "3:The Tramp(4.9752154)\n",
      "4:A Nightmare on Elm Street 3 Dream Warriors(4.9207525)\n",
      "5:Forever(4.9190583)\n",
      "6:Carefree(4.909159)\n",
      "7:Naattiya Rani(4.8041472)\n",
      "8:Usha Parinayam(4.8009953)\n",
      "9:The 5,000 Fingers of Dr. T(4.734557)\n"
     ]
    }
   ],
   "source": [
    "query = input('Inserisci la tua ricerca (es. title: Inception oppure content: \"sogno dentro un sogno\"): ').strip()\n",
    "\n",
    "if \":\" not in query:\n",
    "    print(\"Formato non valido. Usa: title:<termine> oppure content:<termine>\")\n",
    "else:\n",
    "    field, text = [part.strip() for part in query.split(\":\", 1)]\n",
    "\n",
    "    if field not in (\"title\", \"content\"):\n",
    "        print(\"Campo non valido. Usa 'title' o 'content'.\")\n",
    "    else:\n",
    "        is_phrase = text.startswith('\"') and text.endswith('\"')\n",
    "        text = text.strip('\"') if is_phrase else text\n",
    "\n",
    "        query_body = {\n",
    "            \"query\": {\n",
    "                \"match_phrase\" if is_phrase else \"match\": {field: text}\n",
    "            }\n",
    "        }\n",
    "\n",
    "        search(query_body)\n"
   ]
  }
 ],
 "metadata": {
  "kernelspec": {
   "display_name": "Python 3",
   "language": "python",
   "name": "python3"
  },
  "language_info": {
   "codemirror_mode": {
    "name": "ipython",
    "version": 3
   },
   "file_extension": ".py",
   "mimetype": "text/x-python",
   "name": "python",
   "nbconvert_exporter": "python",
   "pygments_lexer": "ipython3",
   "version": "3.10.12"
  }
 },
 "nbformat": 4,
 "nbformat_minor": 5
}
