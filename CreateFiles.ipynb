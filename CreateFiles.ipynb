{
 "cells": [
  {
   "cell_type": "code",
   "execution_count": 1,
   "id": "69ab8766",
   "metadata": {},
   "outputs": [],
   "source": [
    "# Import utili\n",
    "import os\n",
    "import re\n",
    "import pandas as pd\n",
    "\n",
    "# Dataset\n",
    "df = pd.read_csv(\"Dataset/Movies.csv\")\n",
    "\n",
    "# Subsampling del Dataset\n",
    "df = df.sample(n=100, random_state=42, replace=False)\n",
    "df = df[['Title', 'Plot']].copy()\n",
    "\n",
    "df = df.reset_index(drop=True)\n",
    " \n",
    "# Crea la cartella per i .txt\n",
    "output_dir = \"Files\"\n",
    "os.makedirs(output_dir, exist_ok=True)\n",
    "\n",
    "# Crea file di testo per ogni film:\n",
    "#  nome file basato sul Title e contenuto da Plot\n",
    "for idx, row in df.iterrows():\n",
    "    movie_title = row[\"Title\"]\n",
    "    movie_plot = row[\"Plot\"]\n",
    "    file_path = os.path.join(output_dir, f\"{movie_title}.txt\")\n",
    "    with open(file_path, \"w\", encoding=\"utf-8\") as f:\n",
    "        f.write(str(movie_plot))"
   ]
  }
 ],
 "metadata": {
  "kernelspec": {
   "display_name": "Python 3",
   "language": "python",
   "name": "python3"
  },
  "language_info": {
   "codemirror_mode": {
    "name": "ipython",
    "version": 3
   },
   "file_extension": ".py",
   "mimetype": "text/x-python",
   "name": "python",
   "nbconvert_exporter": "python",
   "pygments_lexer": "ipython3",
   "version": "3.10.12"
  }
 },
 "nbformat": 4,
 "nbformat_minor": 5
}
